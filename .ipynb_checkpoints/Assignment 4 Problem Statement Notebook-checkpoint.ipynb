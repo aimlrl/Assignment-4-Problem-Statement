{
 "cells": [
  {
   "cell_type": "markdown",
   "metadata": {},
   "source": [
    "# Write a program to go through 1000 random integers and check whether they are even or prime. In order to create a list of 1000 random integers, you can write the following statement: \n",
    "\n",
    "# import numpy as np\n",
    "\n",
    "# random_integers = np.random.randint(low=0, high=2000, size=(1000,))\n",
    "\n",
    "# Now pass the list of these 1000 random integers to a user defined function called even_prime_list_creation. This function will accept a list of 1000 random integers and return two lists of even as well as prime numbers. Make sure that your function does this in a recursive manner (remember that you can't use loop to go through each number in a list of 1000 random integers, that has to be done in a recursive manner)\n",
    "\n",
    "# Now, in order to create a list of even as well as prime numbers, even_prime_list_creation should know that which number is an even number and which number is a prime number. Well even number is easy to check so your function even_prime_list_creation can itself check whether the number is even or not but in order to check whether the number is prime or not, even_prime_list_creation is going to call another function called is_prime. This, is_prime function will accept a number and check whether it's prime or not in a recursive manner (again you can't use a loop to check whether the number is prime or not, that has to be done in a recursive manner) and is going to return True or False accordingly. \n",
    "\n",
    "# So, both functions should do their job in a recursive manner. And the final outcome should be two lists, one of even number and one of prime numbers. "
   ]
  },
  {
   "cell_type": "code",
   "execution_count": null,
   "metadata": {},
   "outputs": [],
   "source": []
  }
 ],
 "metadata": {
  "kernelspec": {
   "display_name": "Python 3",
   "language": "python",
   "name": "python3"
  },
  "language_info": {
   "codemirror_mode": {
    "name": "ipython",
    "version": 3
   },
   "file_extension": ".py",
   "mimetype": "text/x-python",
   "name": "python",
   "nbconvert_exporter": "python",
   "pygments_lexer": "ipython3",
   "version": "3.7.3"
  }
 },
 "nbformat": 4,
 "nbformat_minor": 2
}
